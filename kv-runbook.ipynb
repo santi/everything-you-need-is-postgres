{
 "cells": [
  {
   "cell_type": "markdown",
   "id": "a4fed015-4bc6-4df0-8afa-8707a7187032",
   "metadata": {},
   "source": [
    "# KV runbook"
   ]
  },
  {
   "cell_type": "code",
   "execution_count": null,
   "id": "37ef610a-193e-43e7-a47e-504192477bc0",
   "metadata": {},
   "outputs": [],
   "source": [
    "%%bash\n",
    "docker run --name kv -d -e POSTGRES_HOST_AUTH_METHOD=trust -p 5432:5432 postgres:16.2\n",
    "sleep 2"
   ]
  },
  {
   "cell_type": "code",
   "execution_count": null,
   "id": "3940e946-25af-4bd3-aefc-f3c6a37f4cdf",
   "metadata": {},
   "outputs": [],
   "source": [
    "%%bash\n",
    "psql -h localhost -U postgres -d postgres -c \"\n",
    "\n",
    "CREATE TABLE IF NOT EXISTS document (\n",
    "    id BIGINT PRIMARY KEY,\n",
    "    data BYTEA\n",
    ");\n",
    "\n",
    "\""
   ]
  },
  {
   "cell_type": "code",
   "execution_count": null,
   "id": "0d5fdaa7-7793-4250-a1bf-e1b72ebf1fa7",
   "metadata": {},
   "outputs": [],
   "source": [
    "import psycopg\n",
    "from psycopg.abc import Query\n",
    "\n",
    "def insert(key: int, value: bytes) -> tuple[int, bytes]:\n",
    "    with psycopg.connect(\"host=localhost dbname=postgres user=postgres\") as conn:\n",
    "        with conn.cursor() as cur:\n",
    "            cur.execute(\"\"\"\n",
    "                INSERT INTO document (id, data)\n",
    "                VALUES (%s, %s)\n",
    "                RETURNING *\n",
    "                \"\"\", [key, value])\n",
    "            return cur.fetchone()\n",
    "\n",
    "\n",
    "def query(sql: Query) -> list[tuple[int, bytes]]:\n",
    "    with psycopg.connect(\"host=localhost dbname=postgres user=postgres\") as conn:\n",
    "        with conn.cursor() as cur:\n",
    "            cur.execute(sql)\n",
    "            return cur.fetchall()"
   ]
  },
  {
   "cell_type": "code",
   "execution_count": null,
   "id": "40b447e1-75ae-41b8-8c63-e1f101ba19ad",
   "metadata": {},
   "outputs": [],
   "source": [
    "data = 'My very beatiful string'\n",
    "\n",
    "insert(1, data.encode())\n"
   ]
  },
  {
   "cell_type": "code",
   "execution_count": null,
   "id": "f566f9f7",
   "metadata": {},
   "outputs": [],
   "source": [
    "# Get all documents that has a fish as a pet\n",
    "\n",
    "key, value = query(\"\"\"\n",
    "    SELECT *\n",
    "    FROM document\n",
    "    WHERE id = 1\n",
    "\"\"\")[0]\n",
    "\n",
    "value.decode()"
   ]
  },
  {
   "cell_type": "code",
   "execution_count": null,
   "id": "00dc885e",
   "metadata": {},
   "outputs": [],
   "source": [
    "from IPython.display import Image\n",
    "\n",
    "Image(filename='postgres.png') \n"
   ]
  },
  {
   "cell_type": "code",
   "execution_count": null,
   "id": "b6871554",
   "metadata": {},
   "outputs": [],
   "source": [
    "with open('./postgres.png', 'rb') as f:\n",
    "    insert(2, f.read())\n"
   ]
  },
  {
   "cell_type": "code",
   "execution_count": null,
   "id": "8032590d",
   "metadata": {},
   "outputs": [],
   "source": [
    "key, value = query(\"\"\"\n",
    "    SELECT *\n",
    "    FROM document\n",
    "    WHERE id = 2\n",
    "\"\"\")[0]\n",
    "\n",
    "\n",
    "from IPython.display import Image\n",
    "Image(value) "
   ]
  },
  {
   "cell_type": "code",
   "execution_count": null,
   "id": "93eed2aa",
   "metadata": {},
   "outputs": [],
   "source": [
    "%%bash\n",
    "docker stop kv\n",
    "docker rm kv"
   ]
  }
 ],
 "metadata": {
  "kernelspec": {
   "display_name": "Python 3 (ipykernel)",
   "language": "python",
   "name": "python3"
  },
  "language_info": {
   "codemirror_mode": {
    "name": "ipython",
    "version": 3
   },
   "file_extension": ".py",
   "mimetype": "text/x-python",
   "name": "python",
   "nbconvert_exporter": "python",
   "pygments_lexer": "ipython3",
   "version": "3.12.5"
  }
 },
 "nbformat": 4,
 "nbformat_minor": 5
}
