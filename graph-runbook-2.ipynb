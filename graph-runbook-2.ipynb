{
 "cells": [
  {
   "cell_type": "markdown",
   "id": "a4fed015-4bc6-4df0-8afa-8707a7187032",
   "metadata": {},
   "source": [
    "# Graph runbook 2"
   ]
  },
  {
   "cell_type": "code",
   "execution_count": null,
   "id": "37ef610a-193e-43e7-a47e-504192477bc0",
   "metadata": {},
   "outputs": [],
   "source": [
    "%%bash\n",
    "docker run --name age -d -e POSTGRES_HOST_AUTH_METHOD=trust -p 5432:5432 apache/age:release_PG16_1.5.0\n",
    "sleep 10"
   ]
  },
  {
   "cell_type": "code",
   "execution_count": null,
   "id": "c601ebe5-29aa-4d06-b208-2c0056dd316b",
   "metadata": {},
   "outputs": [],
   "source": [
    "%%bash\n",
    "psql -h localhost -U postgres -d postgres -c \"\n",
    "\n",
    "CREATE EXTENSION IF NOT EXISTS age;\n",
    "\n",
    "\""
   ]
  },
  {
   "cell_type": "code",
   "execution_count": null,
   "id": "3940e946-25af-4bd3-aefc-f3c6a37f4cdf",
   "metadata": {},
   "outputs": [],
   "source": [
    "%%bash\n",
    "psql -h localhost -U postgres -d postgres -c \"\n",
    "\n",
    "LOAD 'age';\n",
    "SET search_path = ag_catalog, postgres, public;\n",
    "\n",
    "SELECT create_graph('social_network');\n",
    "\n",
    "\""
   ]
  },
  {
   "cell_type": "code",
   "execution_count": null,
   "id": "a2975c80-664f-4564-89a4-f04d5e5e57db",
   "metadata": {},
   "outputs": [],
   "source": [
    "%%bash\n",
    "psql -h localhost -U postgres -d postgres -c \"\n",
    "\n",
    "LOAD 'age';\n",
    "SET search_path = ag_catalog, postgres, public;\n",
    "\n",
    "SELECT * \n",
    "FROM cypher('social_network', \\$\\$\n",
    "    CREATE \n",
    "        (vemund:Human   {name:'Vemund Santi', age:29}),\n",
    "        (kristian:Human {name:'Kristian Vikenes', age:27}),\n",
    "        (trine:Human    {name:'Trine Hansen', age:31}),\n",
    "        (barten:Cat     {name:'Barten', age:7}),\n",
    "        (yava:Dog       {name:'Yava', age:5}),\n",
    "\n",
    "        (vemund)-[:friend_with]->(kristian),\n",
    "        (vemund)-[:friend_with]->(trine),\n",
    "\n",
    "        (trine)-[:owner_of]->(barten),\n",
    "        (kristian)-[:owner_of]->(yava)\n",
    "\\$\\$) as (v agtype);\n",
    "\n",
    "\""
   ]
  },
  {
   "cell_type": "code",
   "execution_count": null,
   "id": "0d5fdaa7-7793-4250-a1bf-e1b72ebf1fa7",
   "metadata": {},
   "outputs": [],
   "source": [
    "import json\n",
    "import psycopg\n",
    "from psycopg.abc import Query\n",
    "\n",
    "\n",
    "def _(vertex: str):\n",
    "    return json.loads(vertex[:-8])['properties']['name']\n",
    "\n",
    "\n",
    "def __(edge: str):\n",
    "    return json.loads(edge[:-6])['label']\n",
    "\n",
    "\n",
    "def query(sql: Query) -> None:\n",
    "    with psycopg.connect(\"host=localhost dbname=postgres user=postgres\") as conn:\n",
    "        with conn.cursor() as cur:\n",
    "            cur.execute(\"LOAD 'age';\")\n",
    "            cur.execute('SET search_path = ag_catalog, postgres, public;')\n",
    "\n",
    "            cur.execute(sql)\n",
    "\n",
    "            for res in cur.fetchall():\n",
    "                print(f\"{_(res[0])} -[{__(res[1])}]-> {_(res[2])}\")"
   ]
  },
  {
   "cell_type": "code",
   "execution_count": null,
   "id": "40b447e1-75ae-41b8-8c63-e1f101ba19ad",
   "metadata": {},
   "outputs": [],
   "source": [
    "# Get everything that has a relation\n",
    "query(\"\"\"\n",
    "    SELECT * \n",
    "    FROM cypher('social_network', $$\n",
    "        MATCH (start)-[rel]->(dest)\n",
    "        RETURN start, rel, dest\n",
    "    $$) as (start agtype, rel agtype, dest agtype);\n",
    "\"\"\")"
   ]
  },
  {
   "cell_type": "code",
   "execution_count": null,
   "id": "d06f292c",
   "metadata": {},
   "outputs": [],
   "source": [
    "# Get all of Vemund's friends\n",
    "query(\"\"\"\n",
    "    SELECT * \n",
    "    FROM cypher('social_network', $$\n",
    "        MATCH (vemund:Human {name:'Vemund Santi'})-[rel:friend_with]->(friend)\n",
    "        RETURN vemund, rel, friend\n",
    "    $$) as (vemund agtype, rel agtype, friend agtype);\n",
    "\"\"\")"
   ]
  },
  {
   "cell_type": "code",
   "execution_count": null,
   "id": "93b34871",
   "metadata": {},
   "outputs": [],
   "source": [
    "# Get all of Vemund's friends that own a dog\n",
    "query(\"\"\"\n",
    "    SELECT *\n",
    "    FROM cypher('social_network', $$\n",
    "        MATCH (start1:Human)-[rel1:friend_with]->(dest1)-[rel2:owner_of]->(dest2:Dog)\n",
    "        RETURN start1, rel1, dest1\n",
    "    $$) as (start agtype, rel agtype, dest agtype);\n",
    "\"\"\")"
   ]
  },
  {
   "cell_type": "code",
   "execution_count": null,
   "id": "9f0706a1",
   "metadata": {},
   "outputs": [],
   "source": [
    "%%bash\n",
    "psql -h localhost -U postgres -d postgres -c \"\n",
    "\n",
    "CREATE TABLE IF NOT EXISTS employee (\n",
    "    name TEXT PRIMARY KEY,\n",
    "    company TEXT NOT NULL\n",
    ");\n",
    "\""
   ]
  },
  {
   "cell_type": "code",
   "execution_count": null,
   "id": "fd81c568",
   "metadata": {},
   "outputs": [],
   "source": [
    "%%bash\n",
    "psql -h localhost -U postgres -d postgres -c \"\n",
    "\n",
    "INSERT INTO employee (name, company)\n",
    "VALUES ('Kristian Vikenes', 'Oiiku'),\n",
    "       ('Trine Hansen', 'Age Labs');\n",
    "\""
   ]
  },
  {
   "cell_type": "code",
   "execution_count": null,
   "id": "0535cae1",
   "metadata": {},
   "outputs": [],
   "source": [
    "%%bash\n",
    "psql -h localhost -U postgres -d postgres -c \"\n",
    "\n",
    "LOAD 'age';\n",
    "SET search_path = ag_catalog, postgres, public;\n",
    "\n",
    "-- Get all of Vemund's friends that own a dog and join them with employee information\n",
    "SELECT *\n",
    "FROM employee\n",
    "JOIN cypher('social_network', \\$\\$\n",
    "        MATCH (start1:Human)-[rel1:friend_with]->(dest1)-[rel2:owner_of]->(dest2:Dog)\n",
    "        RETURN start1, rel1, dest1.name\n",
    "    \\$\\$) as (start agtype, rel agtype, dest TEXT)\n",
    " ON employee.name = dest;\n",
    "\""
   ]
  },
  {
   "cell_type": "code",
   "execution_count": null,
   "id": "93eed2aa",
   "metadata": {},
   "outputs": [],
   "source": [
    "%%bash\n",
    "docker stop age\n",
    "docker rm age"
   ]
  }
 ],
 "metadata": {
  "kernelspec": {
   "display_name": "Python 3 (ipykernel)",
   "language": "python",
   "name": "python3"
  },
  "language_info": {
   "codemirror_mode": {
    "name": "ipython",
    "version": 3
   },
   "file_extension": ".py",
   "mimetype": "text/x-python",
   "name": "python",
   "nbconvert_exporter": "python",
   "pygments_lexer": "ipython3",
   "version": "3.12.5"
  }
 },
 "nbformat": 4,
 "nbformat_minor": 5
}
