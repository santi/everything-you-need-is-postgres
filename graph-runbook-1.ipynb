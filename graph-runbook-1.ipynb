{
 "cells": [
  {
   "cell_type": "markdown",
   "id": "a4fed015-4bc6-4df0-8afa-8707a7187032",
   "metadata": {},
   "source": [
    "# Graph runbook 1"
   ]
  },
  {
   "cell_type": "code",
   "execution_count": null,
   "id": "37ef610a-193e-43e7-a47e-504192477bc0",
   "metadata": {},
   "outputs": [],
   "source": [
    "%%bash\n",
    "docker run --name graph -d -e POSTGRES_HOST_AUTH_METHOD=trust -p 5432:5432 postgres:16.2\n",
    "sleep 4"
   ]
  },
  {
   "cell_type": "code",
   "execution_count": null,
   "id": "3940e946-25af-4bd3-aefc-f3c6a37f4cdf",
   "metadata": {},
   "outputs": [],
   "source": [
    "%%bash\n",
    "psql -h localhost -U postgres -d postgres -c \"\n",
    "\n",
    "CREATE TABLE node (\n",
    "    id BIGSERIAL PRIMARY KEY,\n",
    "    name TEXT NOT NULL,\n",
    "    species TEXT NOT NULL\n",
    ");\n",
    "\n",
    "CREATE TABLE edge (\n",
    "    id BIGSERIAL PRIMARY KEY,\n",
    "    source BIGINT REFERENCES node(id),\n",
    "    target BIGINT REFERENCES node(id),\n",
    "    property TEXT NOT NULL\n",
    ");\n",
    "\""
   ]
  },
  {
   "cell_type": "code",
   "execution_count": null,
   "id": "a2975c80-664f-4564-89a4-f04d5e5e57db",
   "metadata": {},
   "outputs": [],
   "source": [
    "%%bash\n",
    "psql -h localhost -U postgres -d postgres -c \"\n",
    "\n",
    "INSERT INTO node (name, species)\n",
    "    VALUES  ('Vemund Santi', 'Human'),\n",
    "            ('Kristian Vikenes', 'Human'),\n",
    "            ('Trine Hansen', 'Human'),\n",
    "            ('Barten', 'Cat'),\n",
    "            ('Yava', 'Dog');\n",
    "\n",
    "INSERT INTO edge (source, target, property)\n",
    "    VALUES  (1, 2, 'friend_with'),\n",
    "            (1, 3, 'friend_with'),\n",
    "            (3, 4, 'owner_of'),\n",
    "            (2, 5, 'owner_of');\n",
    "\""
   ]
  },
  {
   "cell_type": "code",
   "execution_count": null,
   "id": "8939660f",
   "metadata": {},
   "outputs": [],
   "source": [
    "%%bash\n",
    "psql -h localhost -U postgres -d postgres -c \"\n",
    "\n",
    "-- Find all friends of Vemund Santi\n",
    "\n",
    "SELECT friend.name\n",
    "FROM node\n",
    "    JOIN edge ON node.id = edge.source AND edge.property = 'friend_with'\n",
    "    JOIN node AS friend ON friend.id = edge.target\n",
    "WHERE node.name = 'Vemund Santi';\n",
    "\""
   ]
  },
  {
   "cell_type": "code",
   "execution_count": null,
   "id": "01862b48",
   "metadata": {},
   "outputs": [],
   "source": [
    "%%bash\n",
    "psql -h localhost -U postgres -d postgres -c \"\n",
    "\n",
    "-- Find all friends of Vemund Santi that owns a cat\n",
    "\n",
    "SELECT friend.name\n",
    "FROM node\n",
    "    JOIN edge ON node.id = edge.source AND edge.property = 'friend_with'\n",
    "    JOIN node AS friend ON friend.id = edge.target\n",
    "    JOIN edge AS owner ON owner.source = friend.id AND owner.property = 'owner_of'\n",
    "    JOIN node AS pet ON pet.id = owner.target\n",
    "WHERE node.name = 'Vemund Santi' AND pet.species = 'Cat';\n",
    "\n",
    "\""
   ]
  },
  {
   "cell_type": "code",
   "execution_count": null,
   "id": "93eed2aa",
   "metadata": {},
   "outputs": [],
   "source": [
    "%%bash\n",
    "docker stop graph\n",
    "docker rm graph"
   ]
  }
 ],
 "metadata": {
  "kernelspec": {
   "display_name": "Python 3 (ipykernel)",
   "language": "python",
   "name": "python3"
  },
  "language_info": {
   "codemirror_mode": {
    "name": "ipython",
    "version": 3
   },
   "file_extension": ".py",
   "mimetype": "text/x-python",
   "name": "python",
   "nbconvert_exporter": "python",
   "pygments_lexer": "ipython3",
   "version": "3.12.5"
  }
 },
 "nbformat": 4,
 "nbformat_minor": 5
}
