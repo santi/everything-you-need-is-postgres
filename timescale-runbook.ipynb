{
 "cells": [
  {
   "cell_type": "markdown",
   "id": "a4fed015-4bc6-4df0-8afa-8707a7187032",
   "metadata": {},
   "source": [
    "# TimescaleDB runbook"
   ]
  },
  {
   "cell_type": "code",
   "execution_count": null,
   "id": "37ef610a-193e-43e7-a47e-504192477bc0",
   "metadata": {},
   "outputs": [],
   "source": [
    "%%bash\n",
    "docker run --name time -d -e POSTGRES_HOST_AUTH_METHOD=trust -p 5432:5432 timescale/timescaledb:2.16.1-pg16\n",
    "sleep 4\n"
   ]
  },
  {
   "cell_type": "code",
   "execution_count": null,
   "id": "c601ebe5-29aa-4d06-b208-2c0056dd316b",
   "metadata": {},
   "outputs": [],
   "source": [
    "%%bash\n",
    "psql -h localhost -U postgres -d postgres -c \"\n",
    "\n",
    "CREATE EXTENSION IF NOT EXISTS timescaledb;\n",
    "\n",
    "\""
   ]
  },
  {
   "cell_type": "code",
   "execution_count": null,
   "id": "d5d194ee",
   "metadata": {},
   "outputs": [],
   "source": [
    "%%bash\n",
    "psql -h localhost -U postgres -d postgres -c \"\n",
    "\n",
    "CREATE TABLE transactions (\n",
    "   time TIMESTAMPTZ,\n",
    "   block_id INT,\n",
    "   hash TEXT,\n",
    "   size INT,\n",
    "   weight INT,\n",
    "   is_coinbase BOOLEAN,\n",
    "   output_total BIGINT,\n",
    "   output_total_usd DOUBLE PRECISION,\n",
    "   fee BIGINT,\n",
    "   fee_usd DOUBLE PRECISION,\n",
    "   details JSONB\n",
    ");\n",
    "\n",
    "SELECT create_hypertable('transactions', by_range('time'));\n",
    "\""
   ]
  },
  {
   "cell_type": "code",
   "execution_count": null,
   "id": "3940e946-25af-4bd3-aefc-f3c6a37f4cdf",
   "metadata": {},
   "outputs": [],
   "source": [
    "%%bash\n",
    "psql -h localhost -U postgres -d postgres -c \"\n",
    "\n",
    "CREATE INDEX hash_idx ON public.transactions USING HASH (hash);\n",
    "CREATE INDEX block_idx ON public.transactions (block_id);\n",
    "\n",
    "\""
   ]
  },
  {
   "cell_type": "code",
   "execution_count": null,
   "id": "5e10dca8",
   "metadata": {},
   "outputs": [],
   "source": [
    "%%bash\n",
    "psql -h localhost -U postgres -d postgres -c \"\\COPY transactions FROM 'tutorial_bitcoin_sample.csv' CSV HEADER;\""
   ]
  },
  {
   "cell_type": "code",
   "execution_count": null,
   "id": "a2975c80-664f-4564-89a4-f04d5e5e57db",
   "metadata": {},
   "outputs": [],
   "source": [
    "%%bash\n",
    "psql -h localhost -U postgres -d postgres -c \"\n",
    "\n",
    "WITH recent_blocks AS (\n",
    "    SELECT block_id FROM transactions\n",
    "    WHERE is_coinbase IS TRUE\n",
    "    ORDER BY time DESC\n",
    "    LIMIT 5\n",
    ")\n",
    "SELECT\n",
    "    t.block_id, count(*) AS transaction_count,\n",
    "    SUM(weight) AS block_weight,\n",
    "    SUM(output_total_usd) AS block_value_usd\n",
    "FROM transactions t\n",
    "INNER JOIN recent_blocks b ON b.block_id = t.block_id\n",
    "WHERE is_coinbase IS NOT TRUE\n",
    "GROUP BY t.block_id;\n",
    "\""
   ]
  },
  {
   "cell_type": "code",
   "execution_count": null,
   "id": "93eed2aa",
   "metadata": {},
   "outputs": [],
   "source": [
    "%%bash\n",
    "docker stop time\n",
    "docker rm time"
   ]
  },
  {
   "cell_type": "code",
   "execution_count": null,
   "id": "9b413a65",
   "metadata": {},
   "outputs": [],
   "source": [
    "%%bash\n",
    "docker run --name slowtime -d -e POSTGRES_HOST_AUTH_METHOD=trust -p 5432:5432 postgres:16.2\n",
    "sleep 2"
   ]
  },
  {
   "cell_type": "code",
   "execution_count": null,
   "id": "d658d549",
   "metadata": {},
   "outputs": [],
   "source": [
    "%%bash\n",
    "psql -h localhost -U postgres -d postgres -c \"\n",
    "\n",
    "CREATE TABLE transactions (\n",
    "   time TIMESTAMPTZ,\n",
    "   block_id INT,\n",
    "   hash TEXT,\n",
    "   size INT,\n",
    "   weight INT,\n",
    "   is_coinbase BOOLEAN,\n",
    "   output_total BIGINT,\n",
    "   output_total_usd DOUBLE PRECISION,\n",
    "   fee BIGINT,\n",
    "   fee_usd DOUBLE PRECISION,\n",
    "   details JSONB\n",
    ");\n",
    "\n",
    "CREATE INDEX hash_idx ON public.transactions USING HASH (hash);\n",
    "CREATE INDEX block_idx ON public.transactions (block_id);\n",
    "\""
   ]
  },
  {
   "cell_type": "code",
   "execution_count": null,
   "id": "f728610f",
   "metadata": {},
   "outputs": [],
   "source": [
    "%%bash\n",
    "psql -h localhost -U postgres -d postgres -c \"\\COPY transactions FROM 'tutorial_bitcoin_sample.csv' CSV HEADER;\""
   ]
  },
  {
   "cell_type": "code",
   "execution_count": null,
   "id": "0ffa9027",
   "metadata": {},
   "outputs": [],
   "source": [
    "%%bash\n",
    "psql -h localhost -U postgres -d postgres -c \"\n",
    "\n",
    "WITH recent_blocks AS (\n",
    "    SELECT block_id FROM transactions\n",
    "    WHERE is_coinbase IS TRUE\n",
    "    ORDER BY time DESC\n",
    "    LIMIT 5\n",
    ")\n",
    "SELECT\n",
    "    t.block_id, count(*) AS transaction_count,\n",
    "    SUM(weight) AS block_weight,\n",
    "    SUM(output_total_usd) AS block_value_usd\n",
    "FROM transactions t\n",
    "INNER JOIN recent_blocks b ON b.block_id = t.block_id\n",
    "WHERE is_coinbase IS NOT TRUE\n",
    "GROUP BY t.block_id;\n",
    "\""
   ]
  },
  {
   "cell_type": "code",
   "execution_count": null,
   "id": "476b82d4",
   "metadata": {},
   "outputs": [],
   "source": [
    "%%bash\n",
    "docker stop slowtime\n",
    "docker rm slowtime"
   ]
  }
 ],
 "metadata": {
  "kernelspec": {
   "display_name": "Python 3 (ipykernel)",
   "language": "python",
   "name": "python3"
  },
  "language_info": {
   "codemirror_mode": {
    "name": "ipython",
    "version": 3
   },
   "file_extension": ".py",
   "mimetype": "text/x-python",
   "name": "python",
   "nbconvert_exporter": "python",
   "pygments_lexer": "ipython3",
   "version": "3.12.5"
  }
 },
 "nbformat": 4,
 "nbformat_minor": 5
}
