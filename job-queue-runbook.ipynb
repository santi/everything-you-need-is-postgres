{
 "cells": [
  {
   "cell_type": "markdown",
   "id": "a4fed015-4bc6-4df0-8afa-8707a7187032",
   "metadata": {},
   "source": [
    "# Job Queue runbook"
   ]
  },
  {
   "cell_type": "code",
   "execution_count": null,
   "id": "37ef610a-193e-43e7-a47e-504192477bc0",
   "metadata": {},
   "outputs": [],
   "source": [
    "%%bash\n",
    "docker run --name queue -d -e POSTGRES_HOST_AUTH_METHOD=trust -p 5432:5432 postgres:16.2\n",
    "sleep 4"
   ]
  },
  {
   "cell_type": "code",
   "execution_count": null,
   "id": "3940e946-25af-4bd3-aefc-f3c6a37f4cdf",
   "metadata": {},
   "outputs": [],
   "source": [
    "%%bash\n",
    "psql -h localhost -U postgres -d postgres -c \"\n",
    "\n",
    "CREATE TABLE IF NOT EXISTS job_queue (\n",
    "    id BIGINT PRIMARY KEY,\n",
    "    job_data TEXT NOT NULL\n",
    ");\n",
    "\n",
    "\""
   ]
  },
  {
   "cell_type": "code",
   "execution_count": null,
   "id": "755bea1d",
   "metadata": {},
   "outputs": [],
   "source": [
    "%%bash\n",
    "psql -h localhost -U postgres -d postgres -c \"\n",
    "\n",
    "INSERT INTO job_queue (id, job_data)\n",
    "    VALUES  (1, 'Task 1'),\n",
    "            (2, 'Task 2'),\n",
    "            (3, 'Task 3'),\n",
    "            (4, 'Task 4'),\n",
    "            (5, 'Task 5'),\n",
    "            (6, 'Task 6'),\n",
    "            (7, 'Task 7'),\n",
    "            (8, 'Task 8'),\n",
    "            (9, 'Task 9'),\n",
    "            (10,'Task 10');\n",
    "\n",
    "\""
   ]
  },
  {
   "cell_type": "code",
   "execution_count": null,
   "id": "0d5fdaa7-7793-4250-a1bf-e1b72ebf1fa7",
   "metadata": {},
   "outputs": [],
   "source": [
    "import psycopg\n",
    "from psycopg.abc import Query\n",
    "\n",
    "def query(sql: Query) -> list[tuple[str, str]] | None:\n",
    "    with psycopg.connect(\"host=localhost dbname=postgres user=postgres\") as conn:\n",
    "        with conn.cursor() as cur:\n",
    "            cur.execute(sql)\n",
    "            return cur.fetchall()"
   ]
  },
  {
   "cell_type": "code",
   "execution_count": null,
   "id": "f566f9f7",
   "metadata": {},
   "outputs": [],
   "source": [
    "# Get one job from the queue\n",
    "query(\"\"\"\n",
    "    SELECT id, job_data\n",
    "    FROM job_queue\n",
    "    LIMIT 1\n",
    "\"\"\")\n"
   ]
  },
  {
   "cell_type": "code",
   "execution_count": null,
   "id": "98ae3d9e",
   "metadata": {},
   "outputs": [],
   "source": [
    "# Get one job from the queue, from the start\n",
    "query(\"\"\"\n",
    "    SELECT id, job_data\n",
    "    FROM job_queue\n",
    "    ORDER BY id\n",
    "    LIMIT 1\n",
    "\"\"\")\n"
   ]
  },
  {
   "cell_type": "code",
   "execution_count": null,
   "id": "703a747c",
   "metadata": {},
   "outputs": [],
   "source": [
    "# Get one job from the queue, from the start, and lock it\n",
    "query(\"\"\"\n",
    "    SELECT id, job_data\n",
    "    FROM job_queue\n",
    "    ORDER BY id\n",
    "    LIMIT 1\n",
    "    FOR UPDATE\n",
    "\"\"\")\n"
   ]
  },
  {
   "cell_type": "code",
   "execution_count": null,
   "id": "ee6fbca8",
   "metadata": {},
   "outputs": [],
   "source": [
    "# Get one job from the queue, from the start, and lock it and don't deadlock\n",
    "query(\"\"\"\n",
    "    SELECT id, job_data\n",
    "    FROM job_queue\n",
    "    ORDER BY id\n",
    "    LIMIT 1\n",
    "    FOR UPDATE\n",
    "    SKIP LOCKED\n",
    "\"\"\")\n"
   ]
  },
  {
   "cell_type": "code",
   "execution_count": null,
   "id": "93eed2aa",
   "metadata": {},
   "outputs": [],
   "source": [
    "%%bash\n",
    "docker stop queue\n",
    "docker rm queue"
   ]
  }
 ],
 "metadata": {
  "kernelspec": {
   "display_name": "Python 3 (ipykernel)",
   "language": "python",
   "name": "python3"
  },
  "language_info": {
   "codemirror_mode": {
    "name": "ipython",
    "version": 3
   },
   "file_extension": ".py",
   "mimetype": "text/x-python",
   "name": "python",
   "nbconvert_exporter": "python",
   "pygments_lexer": "ipython3",
   "version": "3.12.5"
  }
 },
 "nbformat": 4,
 "nbformat_minor": 5
}
