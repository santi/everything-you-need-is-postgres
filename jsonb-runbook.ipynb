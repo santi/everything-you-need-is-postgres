{
 "cells": [
  {
   "cell_type": "markdown",
   "id": "a4fed015-4bc6-4df0-8afa-8707a7187032",
   "metadata": {},
   "source": [
    "# JSONB runbook"
   ]
  },
  {
   "cell_type": "code",
   "execution_count": null,
   "id": "37ef610a-193e-43e7-a47e-504192477bc0",
   "metadata": {},
   "outputs": [],
   "source": [
    "%%bash\n",
    "docker run --name jsonb -d -e POSTGRES_HOST_AUTH_METHOD=trust -p 5432:5432 postgres:16.2\n",
    "sleep 2"
   ]
  },
  {
   "cell_type": "code",
   "execution_count": null,
   "id": "3940e946-25af-4bd3-aefc-f3c6a37f4cdf",
   "metadata": {},
   "outputs": [],
   "source": [
    "%%bash\n",
    "psql -h localhost -U postgres -d postgres -c \"\n",
    "\n",
    "CREATE TABLE IF NOT EXISTS document (\n",
    "    id BIGSERIAL PRIMARY KEY,\n",
    "    data JSONB\n",
    ");\n",
    "\n",
    "\""
   ]
  },
  {
   "cell_type": "code",
   "execution_count": null,
   "id": "0d5fdaa7-7793-4250-a1bf-e1b72ebf1fa7",
   "metadata": {},
   "outputs": [],
   "source": [
    "import psycopg\n",
    "from psycopg.abc import Query\n",
    "\n",
    "def insert(data: str) -> tuple[str, str] | None:\n",
    "    with psycopg.connect(\"host=localhost dbname=postgres user=postgres\") as conn:\n",
    "        with conn.cursor() as cur:\n",
    "            cur.execute(\"\"\"\n",
    "                INSERT INTO document (data)\n",
    "                VALUES (%s)\n",
    "                RETURNING *\n",
    "                \"\"\", [data])\n",
    "            return cur.fetchone()\n",
    "\n",
    "\n",
    "def query(sql: Query) -> list[tuple[str, str]] | None:\n",
    "    with psycopg.connect(\"host=localhost dbname=postgres user=postgres\") as conn:\n",
    "        with conn.cursor() as cur:\n",
    "            cur.execute(sql)\n",
    "            return cur.fetchall()"
   ]
  },
  {
   "cell_type": "code",
   "execution_count": null,
   "id": "40b447e1-75ae-41b8-8c63-e1f101ba19ad",
   "metadata": {},
   "outputs": [],
   "source": [
    "import json\n",
    "\n",
    "vemund = {\n",
    "    'name': 'vemund'\n",
    "}\n",
    "\n",
    "kristian = {\n",
    "    'name': 'kristian',\n",
    "    'favourite_food': 'taco',\n",
    "    'pets': [\n",
    "        {\n",
    "            'name': 'yava',\n",
    "            'species': 'dog',\n",
    "            'age': 5\n",
    "        },\n",
    "        {\n",
    "            'name': 'shell',\n",
    "            'species': 'fish',\n",
    "            'age': 2\n",
    "        },\n",
    "        {\n",
    "            'name': 'rust',\n",
    "            'species': 'cat',\n",
    "            'age': 7\n",
    "        },\n",
    "    ]\n",
    "}\n",
    "\n",
    "trine = {\n",
    "    'name': 'trine',\n",
    "    'food_allergies': ['molluscs', 'soy'],\n",
    "    'pets': [\n",
    "        {\n",
    "            'name': 'barten',\n",
    "            'species': 'cat',\n",
    "            'age': 7\n",
    "        },\n",
    "    ]\n",
    "}\n",
    "\n",
    "insert(json.dumps(vemund))\n",
    "insert(json.dumps(kristian))\n",
    "insert(json.dumps(trine))\n"
   ]
  },
  {
   "cell_type": "code",
   "execution_count": null,
   "id": "7cff257d",
   "metadata": {},
   "outputs": [],
   "source": [
    "# Get Vemund\n",
    "query(\"\"\"\n",
    "      SELECT *\n",
    "      FROM document\n",
    "      WHERE data ->> 'name' = 'vemund'\n",
    "\"\"\")"
   ]
  },
  {
   "cell_type": "code",
   "execution_count": null,
   "id": "f566f9f7",
   "metadata": {},
   "outputs": [],
   "source": [
    "# Get all documents that has a fish as a pet\n",
    "query(\"\"\"\n",
    "    SELECT *\n",
    "    FROM document\n",
    "    WHERE data -> 'pets' @> '[{\"species\":\"fish\"}]'::jsonb\n",
    "\"\"\")"
   ]
  },
  {
   "cell_type": "code",
   "execution_count": null,
   "id": "6391882f",
   "metadata": {},
   "outputs": [],
   "source": [
    "# Select Vemund and create a list of his friends as a property on Vemund\n",
    "query(\"\"\"\n",
    "    SELECT jsonb_set(\n",
    "        data,\n",
    "        '{friends}',\n",
    "        (\n",
    "            SELECT jsonb_agg(data)\n",
    "            FROM document\n",
    "            WHERE data ->> 'name' IN ('kristian', 'trine')\n",
    "        )\n",
    "    )\n",
    "    FROM document\n",
    "    WHERE data ->> 'name' = 'vemund'\n",
    "\"\"\")\n",
    "\n"
   ]
  },
  {
   "cell_type": "code",
   "execution_count": null,
   "id": "f23cc564",
   "metadata": {},
   "outputs": [],
   "source": [
    "%%bash\n",
    "psql -h localhost -U postgres -d postgres -c \"\n",
    "\n",
    "CREATE TABLE IF NOT EXISTS employee (\n",
    "    name TEXT PRIMARY KEY,\n",
    "    company TEXT NOT NULL\n",
    ");\n",
    "\""
   ]
  },
  {
   "cell_type": "code",
   "execution_count": null,
   "id": "46208cbc",
   "metadata": {},
   "outputs": [],
   "source": [
    "%%bash\n",
    "psql -h localhost -U postgres -d postgres -c \"\n",
    "\n",
    "INSERT INTO employee (name, company)\n",
    "VALUES ('kristian', 'Oiiku'),\n",
    "       ('trine', 'Age Labs');\n",
    "\""
   ]
  },
  {
   "cell_type": "code",
   "execution_count": null,
   "id": "33d1d48e",
   "metadata": {},
   "outputs": [],
   "source": [
    "# Select Vemund and create a list of his friends as a property on Vemund, then add the company they work for\n",
    "query(\"\"\"\n",
    "    SELECT jsonb_set(\n",
    "        data,\n",
    "        '{friends}',\n",
    "        (\n",
    "            SELECT jsonb_agg(jsonb_set(\n",
    "                data,\n",
    "                '{company}',\n",
    "                to_jsonb((SELECT company FROM employee WHERE name = data ->> 'name'))\n",
    "            ))\n",
    "            FROM document\n",
    "            WHERE data ->> 'name' IN ('kristian', 'trine')\n",
    "        )\n",
    "    )\n",
    "    FROM document\n",
    "    WHERE data ->> 'name' = 'vemund'\n",
    "\"\"\")"
   ]
  },
  {
   "cell_type": "code",
   "execution_count": null,
   "id": "93eed2aa",
   "metadata": {},
   "outputs": [],
   "source": [
    "%%bash\n",
    "docker stop jsonb\n",
    "docker rm jsonb"
   ]
  }
 ],
 "metadata": {
  "kernelspec": {
   "display_name": "Python 3 (ipykernel)",
   "language": "python",
   "name": "python3"
  },
  "language_info": {
   "codemirror_mode": {
    "name": "ipython",
    "version": 3
   },
   "file_extension": ".py",
   "mimetype": "text/x-python",
   "name": "python",
   "nbconvert_exporter": "python",
   "pygments_lexer": "ipython3",
   "version": "3.12.5"
  }
 },
 "nbformat": 4,
 "nbformat_minor": 5
}
